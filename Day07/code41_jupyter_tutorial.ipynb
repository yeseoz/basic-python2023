{
 "cells": [
  {
   "attachments": {},
   "cell_type": "markdown",
   "metadata": {},
   "source": [
    "### 처음 사용하면 개발환경 설정\n",
    "\n",
    "# 주피터 노트북 사용하는 이유\n",
    " - 마크다운이랑 파이썬 소스를 같이 사용할 수 있음\n",
    " - 주석과 다르게 동영상, 사진, 표 등을 같이 작성할 수 있음\n",
    "\n",
    "# 주피터 노트북 사용법 학습\n",
    "\n",
    "## 마크다운, 파이선 셀을 추가\n",
    " - 현재 셀 앞에 셀 추가 : a\n",
    " - 현재 셀 뒤에 셀 추가 : b\n",
    " - 현재 셀을 마크다운으로 변경 \n",
    " - 포커스 있는상태 m\n",
    " - 현재 셀을 코드 셀로 변경 : 포커스 상태 y"
   ]
  },
  {
   "cell_type": "code",
   "execution_count": 5,
   "metadata": {},
   "outputs": [],
   "source": [
    "# 최초 작성된 Python 셀"
   ]
  },
  {
   "attachments": {},
   "cell_type": "markdown",
   "metadata": {},
   "source": [
    "## 파이선 셀 실행\n",
    " - 셀 실행 : Ctrl + Enter\n",
    " - 실행하면서 다음 셀 이동(다음 셀 없으면 생성) : Shift + Enter\n",
    " - 실행하면서 다음 셀 생성 : Alt + Enter\n",
    " - 주석 처리 :  Ctrl + / 또는 Ctrl+k,c"
   ]
  },
  {
   "cell_type": "code",
   "execution_count": 6,
   "metadata": {},
   "outputs": [
    {
     "name": "stdout",
     "output_type": "stream",
     "text": [
      "Hello, Jupyter!!\n"
     ]
    }
   ],
   "source": [
    "print('Hello, Jupyter!!')"
   ]
  },
  {
   "attachments": {},
   "cell_type": "markdown",
   "metadata": {},
   "source": [
    "## 디버깅!!\n",
    "아무리 강조해도 지나치지 않습니다.\n"
   ]
  },
  {
   "cell_type": "code",
   "execution_count": 7,
   "metadata": {},
   "outputs": [
    {
     "name": "stdout",
     "output_type": "stream",
     "text": [
      "1\n",
      "2\n",
      "True\n",
      "Hello\n",
      "3.1415926585\n"
     ]
    }
   ],
   "source": [
    "arr = [1, '2', True, 'Hello', 3.1415926585]\n",
    "\n",
    "for i in arr:\n",
    "    print(i)"
   ]
  },
  {
   "attachments": {},
   "cell_type": "markdown",
   "metadata": {},
   "source": [
    "### 함수 디버깅"
   ]
  },
  {
   "cell_type": "code",
   "execution_count": 8,
   "metadata": {},
   "outputs": [
    {
     "name": "stdout",
     "output_type": "stream",
     "text": [
      "더하기\n",
      "14\n"
     ]
    }
   ],
   "source": [
    "def plus(x, y):\n",
    "    val = x + y\n",
    "    return val\n",
    "\n",
    "def div(x, y):\n",
    "    val = x / y\n",
    "    return val\n",
    "\n",
    "print('더하기')\n",
    "print(plus(10,4))"
   ]
  },
  {
   "cell_type": "code",
   "execution_count": 15,
   "metadata": {},
   "outputs": [
    {
     "name": "stdout",
     "output_type": "stream",
     "text": [
      "나누기\n",
      "[1, '2', True, 'Hello', 3.1415926585]\n"
     ]
    },
    {
     "data": {
      "text/plain": [
       "[1, '2', True, 'Hello', 3.1415926585]"
      ]
     },
     "execution_count": 15,
     "metadata": {},
     "output_type": "execute_result"
    }
   ],
   "source": [
    "print('나누기')\n",
    "# print(div(10,0))\n",
    "\n",
    "print(arr)"
   ]
  },
  {
   "cell_type": "code",
   "execution_count": 12,
   "metadata": {},
   "outputs": [
    {
     "data": {
      "text/plain": [
       "[1, '2', True, 'Hello', 3.1415926585]"
      ]
     },
     "execution_count": 12,
     "metadata": {},
     "output_type": "execute_result"
    }
   ],
   "source": [
    "arr"
   ]
  },
  {
   "attachments": {},
   "cell_type": "markdown",
   "metadata": {},
   "source": [
    "### list(array) for문 예제"
   ]
  },
  {
   "cell_type": "code",
   "execution_count": 13,
   "metadata": {},
   "outputs": [
    {
     "data": {
      "text/plain": [
       "<enumerate at 0x17493f35cb0>"
      ]
     },
     "execution_count": 13,
     "metadata": {},
     "output_type": "execute_result"
    }
   ],
   "source": [
    "enumerate(arr)"
   ]
  },
  {
   "cell_type": "code",
   "execution_count": 14,
   "metadata": {},
   "outputs": [
    {
     "name": "stdout",
     "output_type": "stream",
     "text": [
      "0 = 1\n",
      "1 = 2\n",
      "2 = True\n",
      "3 = Hello\n",
      "4 = 3.1415926585\n"
     ]
    }
   ],
   "source": [
    "for i , item in enumerate(arr):\n",
    "    print(f'{i} = {item}')"
   ]
  }
 ],
 "metadata": {
  "kernelspec": {
   "display_name": "venv",
   "language": "python",
   "name": "python3"
  },
  "language_info": {
   "codemirror_mode": {
    "name": "ipython",
    "version": 3
   },
   "file_extension": ".py",
   "mimetype": "text/x-python",
   "name": "python",
   "nbconvert_exporter": "python",
   "pygments_lexer": "ipython3",
   "version": "3.11.1"
  },
  "orig_nbformat": 4,
  "vscode": {
   "interpreter": {
    "hash": "1732cc55dde7803caebda0df0f1738cc035ced225322b7cf344f368c2c40d995"
   }
  }
 },
 "nbformat": 4,
 "nbformat_minor": 2
}
